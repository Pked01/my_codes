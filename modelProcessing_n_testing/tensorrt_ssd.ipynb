{
 "cells": [
  {
   "cell_type": "code",
   "execution_count": 1,
   "metadata": {
    "ExecuteTime": {
     "end_time": "2019-04-02T10:28:19.748218Z",
     "start_time": "2019-04-02T10:28:17.793176Z"
    },
    "scrolled": true
   },
   "outputs": [
    {
     "ename": "ModuleNotFoundError",
     "evalue": "No module named 'object_detection'",
     "output_type": "error",
     "traceback": [
      "\u001b[0;31m---------------------------------------------------------------------------\u001b[0m",
      "\u001b[0;31mModuleNotFoundError\u001b[0m                       Traceback (most recent call last)",
      "\u001b[0;32m<ipython-input-1-4a6ace91e6bc>\u001b[0m in \u001b[0;36m<module>\u001b[0;34m()\u001b[0m\n\u001b[1;32m     32\u001b[0m \u001b[0;32mfrom\u001b[0m \u001b[0mtensorflow\u001b[0m\u001b[0;34m.\u001b[0m\u001b[0mpython\u001b[0m\u001b[0;34m.\u001b[0m\u001b[0msaved_model\u001b[0m \u001b[0;32mimport\u001b[0m \u001b[0mloader\u001b[0m\u001b[0;34m\u001b[0m\u001b[0m\n\u001b[1;32m     33\u001b[0m \u001b[0;32mfrom\u001b[0m \u001b[0mtensorflow\u001b[0m\u001b[0;34m.\u001b[0m\u001b[0mpython\u001b[0m\u001b[0;34m.\u001b[0m\u001b[0msaved_model\u001b[0m \u001b[0;32mimport\u001b[0m \u001b[0mtag_constants\u001b[0m\u001b[0;34m\u001b[0m\u001b[0m\n\u001b[0;32m---> 34\u001b[0;31m \u001b[0;32mfrom\u001b[0m \u001b[0mutils\u001b[0m \u001b[0;32mimport\u001b[0m \u001b[0mlabel_map_util\u001b[0m\u001b[0;34m\u001b[0m\u001b[0m\n\u001b[0m\u001b[1;32m     35\u001b[0m \u001b[0;34m\u001b[0m\u001b[0m\n\u001b[1;32m     36\u001b[0m \u001b[0;32mfrom\u001b[0m \u001b[0mutils\u001b[0m \u001b[0;32mimport\u001b[0m \u001b[0mvisualization_utils\u001b[0m \u001b[0;32mas\u001b[0m \u001b[0mvis_util\u001b[0m\u001b[0;34m\u001b[0m\u001b[0m\n",
      "\u001b[0;32m~/Notebooks/models/research/object_detection/utils/label_map_util.py\u001b[0m in \u001b[0;36m<module>\u001b[0;34m()\u001b[0m\n\u001b[1;32m     19\u001b[0m \u001b[0;32mimport\u001b[0m \u001b[0mtensorflow\u001b[0m \u001b[0;32mas\u001b[0m \u001b[0mtf\u001b[0m\u001b[0;34m\u001b[0m\u001b[0m\n\u001b[1;32m     20\u001b[0m \u001b[0;32mfrom\u001b[0m \u001b[0mgoogle\u001b[0m\u001b[0;34m.\u001b[0m\u001b[0mprotobuf\u001b[0m \u001b[0;32mimport\u001b[0m \u001b[0mtext_format\u001b[0m\u001b[0;34m\u001b[0m\u001b[0m\n\u001b[0;32m---> 21\u001b[0;31m \u001b[0;32mfrom\u001b[0m \u001b[0mobject_detection\u001b[0m\u001b[0;34m.\u001b[0m\u001b[0mprotos\u001b[0m \u001b[0;32mimport\u001b[0m \u001b[0mstring_int_label_map_pb2\u001b[0m\u001b[0;34m\u001b[0m\u001b[0m\n\u001b[0m\u001b[1;32m     22\u001b[0m \u001b[0;34m\u001b[0m\u001b[0m\n\u001b[1;32m     23\u001b[0m \u001b[0;34m\u001b[0m\u001b[0m\n",
      "\u001b[0;31mModuleNotFoundError\u001b[0m: No module named 'object_detection'"
     ]
    }
   ],
   "source": [
    "# Copyright 2019 The TensorFlow Authors. All Rights Reserved.\n",
    "#\n",
    "# Licensed under the Apache License, Version 2.0 (the \"License\");\n",
    "# you may not use this file except in compliance with the License.\n",
    "# You may obtain a copy of the License at\n",
    "#\n",
    "#     http://www.apache.org/licenses/LICENSE-2.0\n",
    "#\n",
    "# Unless required by applicable law or agreed to in writing, software\n",
    "# distributed under the License is distributed on an \"AS IS\" BASIS,\n",
    "# WITHOUT WARRANTIES OR CONDITIONS OF ANY KIND, either express or implied.\n",
    "# See the License for the specific language governing permissions and\n",
    "# limitations under the License.\n",
    "# ==============================================================================\n",
    "\"\"\"Converts `SavedModel` to TensorRT graph and measures inference time.\n",
    "\n",
    "\"\"\"\n",
    "\n",
    "from __future__ import absolute_import\n",
    "from __future__ import division\n",
    "from __future__ import print_function\n",
    "\n",
    "import time,os\n",
    "tf_object_detection_dir = '../models/research/object_detection/'\n",
    "os.sys.path.append(tf_object_detection_dir)\n",
    "from absl import app\n",
    "from absl import flags\n",
    "import requests\n",
    "import tensorflow as tf\n",
    "import tensorflow.contrib.tensorrt as trt\n",
    "# import tensorrt as trt\n",
    "from tensorflow.python.saved_model import loader\n",
    "from tensorflow.python.saved_model import tag_constants\n",
    "from utils import label_map_util\n",
    "\n",
    "from utils import visualization_utils as vis_util\n",
    "\n",
    "import IPython.display as Disp\n",
    "import numpy as np\n",
    "import cv2"
   ]
  },
  {
   "cell_type": "code",
   "execution_count": 3,
   "metadata": {},
   "outputs": [],
   "source": [
    "import sys"
   ]
  },
  {
   "cell_type": "code",
   "execution_count": 4,
   "metadata": {},
   "outputs": [
    {
     "data": {
      "text/plain": [
       "'/home/ubuntu/anaconda3/envs/tensorflow_p36/bin/python'"
      ]
     },
     "execution_count": 4,
     "metadata": {},
     "output_type": "execute_result"
    }
   ],
   "source": [
    "sys.executable"
   ]
  },
  {
   "cell_type": "code",
   "execution_count": 2,
   "metadata": {},
   "outputs": [
    {
     "name": "stdout",
     "output_type": "stream",
     "text": [
      "absl-py==0.7.1\r\n",
      "alabaster==0.7.10\r\n",
      "anaconda-client==1.6.14\r\n",
      "anaconda-project==0.8.2\r\n",
      "asn1crypto==0.24.0\r\n",
      "astor==0.7.1\r\n",
      "astroid==1.6.3\r\n",
      "astropy==3.0.2\r\n",
      "attrs==18.1.0\r\n",
      "Automat==0.3.0\r\n",
      "autovizwidget==0.12.7\r\n",
      "Babel==2.5.3\r\n",
      "backcall==0.1.0\r\n",
      "backports.shutil-get-terminal-size==1.0.0\r\n",
      "beautifulsoup4==4.6.0\r\n",
      "bitarray==0.8.1\r\n",
      "bkcharts==0.2\r\n",
      "blaze==0.11.3\r\n",
      "bleach==2.1.3\r\n",
      "bokeh==1.0.4\r\n",
      "boto==2.48.0\r\n",
      "boto3==1.9.116\r\n",
      "botocore==1.12.116\r\n",
      "Bottleneck==1.2.1\r\n",
      "cached-property==1.5.1\r\n",
      "certifi==2019.3.9\r\n",
      "cffi==1.11.5\r\n",
      "characteristic==14.3.0\r\n",
      "chardet==3.0.4\r\n",
      "click==6.7\r\n",
      "cloudpickle==0.5.3\r\n",
      "clyent==1.2.2\r\n",
      "colorama==0.3.9\r\n",
      "contextlib2==0.5.5\r\n",
      "cryptography==2.3.1\r\n",
      "cycler==0.10.0\r\n",
      "Cython==0.28.4\r\n",
      "cytoolz==0.9.0.1\r\n",
      "dask==0.17.5\r\n",
      "datashape==0.5.4\r\n",
      "decorator==4.3.0\r\n",
      "defusedxml==0.5.0\r\n",
      "distributed==1.21.8\r\n",
      "docker==3.7.0\r\n",
      "docker-compose==1.23.2\r\n",
      "docker-pycreds==0.4.0\r\n",
      "dockerpty==0.4.1\r\n",
      "docopt==0.6.2\r\n",
      "docutils==0.14\r\n",
      "entrypoints==0.2.3\r\n",
      "environment-kernels==1.1.1\r\n",
      "et-xmlfile==1.0.1\r\n",
      "fastcache==1.0.2\r\n",
      "filelock==3.0.4\r\n",
      "Flask==1.0.2\r\n",
      "Flask-Cors==3.0.4\r\n",
      "gast==0.2.2\r\n",
      "gevent==1.3.0\r\n",
      "glob2==0.6\r\n",
      "gmpy2==2.0.8\r\n",
      "greenlet==0.4.13\r\n",
      "grpcio==1.14.1\r\n",
      "h5py==2.8.0\r\n",
      "hdijupyterutils==0.12.7\r\n",
      "heapdict==1.0.0\r\n",
      "horovod==0.14.1\r\n",
      "html5lib==1.0.1\r\n",
      "idna==2.6\r\n",
      "imageio==2.3.0\r\n",
      "imagesize==1.0.0\r\n",
      "ipykernel==4.8.2\r\n",
      "ipyparallel==6.2.2\r\n",
      "ipython==6.4.0\r\n",
      "ipython-genutils==0.2.0\r\n",
      "ipywidgets==7.4.0\r\n",
      "isort==4.3.4\r\n",
      "itsdangerous==0.24\r\n",
      "jdcal==1.4\r\n",
      "jedi==0.12.0\r\n",
      "Jinja2==2.10\r\n",
      "jmespath==0.9.4\r\n",
      "jsonschema==2.6.0\r\n",
      "jupyter==1.0.0\r\n",
      "jupyter-client==5.2.3\r\n",
      "jupyter-console==5.2.0\r\n",
      "jupyter-contrib-core==0.3.3\r\n",
      "jupyter-contrib-nbextensions==0.5.1\r\n",
      "jupyter-core==4.4.0\r\n",
      "jupyter-highlight-selected-word==0.2.0\r\n",
      "jupyter-latex-envs==1.4.4\r\n",
      "jupyter-nbextensions-configurator==0.4.1\r\n",
      "jupyterlab==0.32.1\r\n",
      "jupyterlab-launcher==0.10.5\r\n",
      "Keras==2.2.4\r\n",
      "Keras-Applications==1.0.7\r\n",
      "Keras-Preprocessing==1.0.9\r\n",
      "keras-resnet==0.1.0\r\n",
      "keras-retinanet==0.5.0\r\n",
      "kiwisolver==1.0.1\r\n",
      "lazy-object-proxy==1.3.1\r\n",
      "llvmlite==0.23.1\r\n",
      "locket==0.2.0\r\n",
      "lxml==4.2.1\r\n",
      "Markdown==3.0.1\r\n",
      "MarkupSafe==1.0\r\n",
      "matplotlib==2.2.2\r\n",
      "mccabe==0.6.1\r\n",
      "mistune==0.8.3\r\n",
      "mkl-fft==1.0.0\r\n",
      "mkl-random==1.0.1\r\n",
      "mock==2.0.0\r\n",
      "more-itertools==4.1.0\r\n",
      "mpmath==1.0.0\r\n",
      "msgpack==0.6.0\r\n",
      "msgpack-python==0.5.6\r\n",
      "multipledispatch==0.5.0\r\n",
      "nb-conda==2.2.1\r\n",
      "nb-conda-kernels==2.2.1\r\n",
      "nbconvert==5.4.1\r\n",
      "nbformat==4.4.0\r\n",
      "networkx==2.1\r\n",
      "nltk==3.3\r\n",
      "nose==1.3.7\r\n",
      "notebook==5.5.0\r\n",
      "numba==0.38.0\r\n",
      "numexpr==2.6.5\r\n",
      "numpy==1.15.4\r\n",
      "numpydoc==0.8.0\r\n",
      "odo==0.5.1\r\n",
      "olefile==0.45.1\r\n",
      "opencv-python==4.0.0.21\r\n",
      "openpyxl==2.5.3\r\n",
      "packaging==17.1\r\n",
      "pandas==0.24.2\r\n",
      "pandocfilters==1.4.2\r\n",
      "parso==0.2.0\r\n",
      "partd==0.3.8\r\n",
      "path.py==11.0.1\r\n",
      "pathlib2==2.3.2\r\n",
      "patsy==0.5.0\r\n",
      "pbr==5.1.3\r\n",
      "pep8==1.7.1\r\n",
      "pexpect==4.5.0\r\n",
      "pickleshare==0.7.4\r\n",
      "Pillow==5.2.0\r\n",
      "pkginfo==1.4.2\r\n",
      "plotly==2.7.0\r\n",
      "pluggy==0.6.0\r\n",
      "ply==3.11\r\n",
      "progressbar2==3.39.3\r\n",
      "prompt-toolkit==1.0.15\r\n",
      "protobuf==3.6.1\r\n",
      "protobuf3-to-dict==0.1.5\r\n",
      "psutil==5.4.5\r\n",
      "psycopg2==2.7.5\r\n",
      "ptyprocess==0.5.2\r\n",
      "py==1.5.3\r\n",
      "py4j==0.10.4\r\n",
      "pycodestyle==2.4.0\r\n",
      "pycosat==0.6.3\r\n",
      "pycparser==2.18\r\n",
      "pycrypto==2.6.1\r\n",
      "pycurl==7.43.0.1\r\n",
      "pyflakes==1.6.0\r\n",
      "pygal==2.4.0\r\n",
      "Pygments==2.2.0\r\n",
      "pykerberos==1.2.1\r\n",
      "pylint==1.8.4\r\n",
      "pyodbc==4.0.23\r\n",
      "pyOpenSSL==18.0.0\r\n",
      "pyparsing==2.2.0\r\n",
      "PySocks==1.6.8\r\n",
      "pyspark==2.2.1\r\n",
      "pytest==3.5.1\r\n",
      "pytest-arraydiff==0.2\r\n",
      "pytest-astropy==0.3.0\r\n",
      "pytest-doctestplus==0.1.3\r\n",
      "pytest-openfiles==0.3.0\r\n",
      "pytest-remotedata==0.2.1\r\n",
      "python-dateutil==2.7.3\r\n",
      "python-utils==2.3.0\r\n",
      "pytz==2018.4\r\n",
      "PyWavelets==0.5.2\r\n",
      "PyYAML==3.12\r\n",
      "pyzmq==17.0.0\r\n",
      "QtAwesome==0.4.4\r\n",
      "qtconsole==4.3.1\r\n",
      "QtPy==1.4.1\r\n",
      "requests==2.20.1\r\n",
      "requests-kerberos==0.12.0\r\n",
      "rope==0.10.7\r\n",
      "ruamel-yaml==0.15.35\r\n",
      "s3fs==0.1.5\r\n",
      "s3transfer==0.2.0\r\n",
      "sagemaker==1.18.5\r\n",
      "sagemaker-pyspark==1.2.1\r\n",
      "scikit-image==0.13.1\r\n",
      "scikit-learn==0.19.1\r\n",
      "scipy==1.1.0\r\n",
      "seaborn==0.8.1\r\n",
      "Send2Trash==1.5.0\r\n",
      "simplegeneric==0.8.1\r\n",
      "singledispatch==3.4.0.3\r\n",
      "six==1.11.0\r\n",
      "sklearn==0.0\r\n",
      "snowballstemmer==1.2.1\r\n",
      "sortedcollections==0.6.1\r\n",
      "sortedcontainers==1.5.10\r\n",
      "sparkmagic==0.12.5\r\n",
      "Sphinx==1.7.4\r\n",
      "sphinxcontrib-websupport==1.0.1\r\n",
      "spyder==3.2.8\r\n",
      "SQLAlchemy==1.2.11\r\n",
      "statsmodels==0.9.0\r\n",
      "sympy==1.1.1\r\n",
      "tables==3.4.3\r\n",
      "tblib==1.3.2\r\n",
      "tensorboard==1.13.1\r\n",
      "tensorflow==1.13.1\r\n",
      "tensorflow-estimator==1.13.0\r\n",
      "tensorflow-serving-api==1.13.0\r\n",
      "termcolor==1.1.0\r\n",
      "terminado==0.8.1\r\n",
      "testpath==0.3.1\r\n",
      "texttable==0.9.1\r\n",
      "toolz==0.9.0\r\n",
      "tornado==5.0.2\r\n",
      "traitlets==4.3.2\r\n",
      "typing==3.6.4\r\n",
      "unicodecsv==0.14.1\r\n",
      "urllib3==1.23\r\n",
      "wcwidth==0.1.7\r\n",
      "webencodings==0.5.1\r\n",
      "websocket-client==0.55.0\r\n",
      "Werkzeug==0.14.1\r\n",
      "widgetsnbextension==3.4.2\r\n",
      "wrapt==1.10.11\r\n",
      "xlrd==1.1.0\r\n",
      "XlsxWriter==1.0.4\r\n",
      "xlwt==1.3.0\r\n",
      "zict==0.1.3\r\n"
     ]
    }
   ],
   "source": [
    "!pip freeze"
   ]
  },
  {
   "cell_type": "code",
   "execution_count": 12,
   "metadata": {
    "ExecuteTime": {
     "end_time": "2019-04-02T10:28:19.752911Z",
     "start_time": "2019-04-02T10:28:19.749930Z"
    }
   },
   "outputs": [],
   "source": [
    "\n",
    "image_url = 'https://tensorflow.org/images/blogs/serving/cat.jpg'\n",
    "saved_model_dir = 'faster_rcnn_resnet101_lowproposals_coco_2018_01_28/frozen_inference_graph.pb'\n",
    "model_input = 'image_tensor:0'\n",
    "model_output = ['detection_boxes:0',\n",
    "               'detection_classes:0',\n",
    "               'detection_scores:0',\n",
    "               'num_detections:0']\n"
   ]
  },
  {
   "cell_type": "markdown",
   "metadata": {},
   "source": [
    "#### loading original tensorflow model"
   ]
  },
  {
   "cell_type": "code",
   "execution_count": 13,
   "metadata": {
    "ExecuteTime": {
     "end_time": "2019-04-02T10:28:19.891163Z",
     "start_time": "2019-04-02T10:28:19.754828Z"
    }
   },
   "outputs": [],
   "source": [
    "def get_graph(frozen_model_file):\n",
    "    with tf.gfile.GFile(frozen_model_file,'rb') as f:\n",
    "        graph_def = tf.GraphDef()\n",
    "        graph_def.ParseFromString(f.read())\n",
    "    return graph_def"
   ]
  },
  {
   "cell_type": "code",
   "execution_count": 14,
   "metadata": {
    "ExecuteTime": {
     "end_time": "2019-04-01T12:30:16.848405Z",
     "start_time": "2019-04-01T12:30:16.843533Z"
    }
   },
   "outputs": [],
   "source": [
    "# detection_graph = tf.Graph()\n",
    "# with detection_graph.as_default():\n",
    "#     od_graph_def = tf.GraphDef()\n",
    "#     with tf.gfile.GFile(saved_model_dir, 'rb') as fid:\n",
    "#         serialized_graph = fid.read()\n",
    "#         od_graph_def.ParseFromString(serialized_graph)\n",
    "#         tf.import_graph_def(od_graph_def, name='')"
   ]
  },
  {
   "cell_type": "markdown",
   "metadata": {},
   "source": [
    "#### converting to tensorrt graph"
   ]
  },
  {
   "cell_type": "code",
   "execution_count": 15,
   "metadata": {
    "ExecuteTime": {
     "end_time": "2019-04-01T12:30:17.985298Z",
     "start_time": "2019-04-01T12:30:17.980835Z"
    }
   },
   "outputs": [],
   "source": [
    "# f = tf.gfile.GFile(saved_model_dir, 'rb')\n",
    "# # define graph def object\n",
    "# od_graph_def = tf.GraphDef()\n",
    "# # store frozen graph from pb file\n",
    "# od_graph_def.ParseFromString(f.read())"
   ]
  },
  {
   "cell_type": "code",
   "execution_count": 16,
   "metadata": {
    "ExecuteTime": {
     "end_time": "2019-04-02T10:28:33.020645Z",
     "start_time": "2019-04-02T10:28:30.148208Z"
    }
   },
   "outputs": [],
   "source": [
    "precision = \"FP16\"\n",
    "batch_size=2\n",
    "workspace_size=1 << 25\n",
    "trt_graph = trt.create_inference_graph(get_graph(saved_model_dir),model_output,\\\n",
    "                                       precision_mode=precision,max_workspace_size_bytes=workspace_size,\\\n",
    "                                      max_batch_size=batch_size,is_dynamic_op=True)\n",
    "\n",
    "with tf.gfile.GFile(saved_model_dir.replace('.pb','_trt.pb'),'wb') as f:\n",
    "    f.write(trt_graph.SerializeToString())"
   ]
  },
  {
   "cell_type": "code",
   "execution_count": 17,
   "metadata": {
    "ExecuteTime": {
     "end_time": "2019-04-02T10:28:33.085737Z",
     "start_time": "2019-04-02T10:28:33.022264Z"
    }
   },
   "outputs": [
    {
     "name": "stdout",
     "output_type": "stream",
     "text": [
      "numb. of all_nodes in frozen graph: 11171\n",
      "numb. of trt_engine_nodes in TensorRT graph: 0\n",
      "numb. of all_nodes in TensorRT graph: 11172\n"
     ]
    }
   ],
   "source": [
    "# check how many ops of the original frozen model\n",
    "all_nodes = len([1 for n in get_graph(saved_model_dir).node])\n",
    "print(\"numb. of all_nodes in frozen graph:\", all_nodes)\n",
    "\n",
    "# check how many ops that is converted to TensorRT engine\n",
    "trt_engine_nodes = len([1 for n in trt_graph.node if str(n.op) == 'TRTEngineOp'])\n",
    "print(\"numb. of trt_engine_nodes in TensorRT graph:\", trt_engine_nodes)\n",
    "all_nodes = len([1 for n in trt_graph.node])\n",
    "print(\"numb. of all_nodes in TensorRT graph:\", all_nodes)"
   ]
  },
  {
   "cell_type": "code",
   "execution_count": 8,
   "metadata": {
    "ExecuteTime": {
     "end_time": "2019-04-01T12:26:39.741561Z",
     "start_time": "2019-04-01T12:26:39.739274Z"
    }
   },
   "outputs": [],
   "source": [
    "# trt_detection_graph = tf.Graph()\n",
    "\n",
    "# with trt_detection_graph.as_default():\n",
    "#     od_graph_def = tf.GraphDef()\n",
    "#     tf.import_graph_def(trt_graph,name='')\n",
    "\n",
    "# #### saving tensorrt graph\n",
    "\n",
    "# with trt_detection_graph.as_default():\n",
    "#     with tf.Session(graph=trt_detection_graph) as sess:\n",
    "#         tf.train.write_graph(sess.graph,\n",
    "#                          'tensorrt_model_testing','tensorrt_model_ssd.pb', as_text=True)"
   ]
  },
  {
   "cell_type": "markdown",
   "metadata": {},
   "source": [
    "#### normal graph"
   ]
  },
  {
   "cell_type": "code",
   "execution_count": 6,
   "metadata": {
    "ExecuteTime": {
     "end_time": "2019-04-02T10:28:59.159423Z",
     "start_time": "2019-04-02T10:28:59.127110Z"
    }
   },
   "outputs": [],
   "source": [
    "PATH_TO_LABELS = os.path.join(tf_object_detection_dir,'data', 'mscoco_label_map.pbtxt')\n",
    "category_index = label_map_util.create_category_index_from_labelmap(PATH_TO_LABELS, use_display_name=True)"
   ]
  },
  {
   "cell_type": "code",
   "execution_count": 7,
   "metadata": {
    "ExecuteTime": {
     "end_time": "2019-04-02T10:29:17.726778Z",
     "start_time": "2019-04-02T10:28:59.358116Z"
    }
   },
   "outputs": [
    {
     "name": "stdout",
     "output_type": "stream",
     "text": [
      "FPS: 31.22132483754029\n"
     ]
    }
   ],
   "source": [
    "video_url = '/home/prateek/Desktop/Video_Data/Video/5.In_front_of_engineering/Camera16_spandan office_spandan office_20181219102846_20181219102859_591291.mp4'\n",
    "video_url = 0\n",
    "gpu_options = tf.GPUOptions(per_process_gpu_memory_fraction=.8)\n",
    "fps = []\n",
    "graph = tf.Graph()  \n",
    "num_inferences = 50\n",
    "with graph.as_default():\n",
    "    with tf.Session(config = tf.ConfigProto(gpu_options=gpu_options) ) as sess:\n",
    "#         # read TensorRT model\n",
    "#         trt_graph = read_pb_graph(TENSORRT_MODEL_PATH)\n",
    "\n",
    "        # obtain the corresponding input-output tensor\n",
    "        tf.import_graph_def(get_graph(saved_model_dir), name='')\n",
    "#         tf.import_graph_def(trt_graph, name='')\n",
    "      # Get handles to input and output tensors\n",
    "        ops = tf.get_default_graph().get_operations()\n",
    "        all_tensor_names = {output.name for op in ops for output in op.outputs}\n",
    "        tensor_dict = {}\n",
    "        for key in [\n",
    "          'num_detections', 'detection_boxes', 'detection_scores',\n",
    "          'detection_classes', 'detection_masks']:\n",
    "            tensor_name = key + ':0'\n",
    "            if tensor_name in all_tensor_names:\n",
    "                tensor_dict[key] = tf.get_default_graph().get_tensor_by_name(\n",
    "                  tensor_name)\n",
    "        if 'detection_masks' in tensor_dict:\n",
    "            # The following processing is only for single image\n",
    "            detection_boxes = tf.squeeze(tensor_dict['detection_boxes'], [0])\n",
    "            detection_masks = tf.squeeze(tensor_dict['detection_masks'], [0])\n",
    "            # Reframe is required to translate mask from box coordinates to image coordinates and fit the image size.\n",
    "            real_num_detection = tf.cast(tensor_dict['num_detections'][0], tf.int32)\n",
    "            detection_boxes = tf.slice(detection_boxes, [0, 0], [real_num_detection, -1])\n",
    "            detection_masks = tf.slice(detection_masks, [0, 0, 0], [real_num_detection, -1, -1])\n",
    "            detection_masks_reframed = utils_ops.reframe_box_masks_to_image_masks(\n",
    "                detection_masks, detection_boxes, image.shape[0], image.shape[1])\n",
    "            detection_masks_reframed = tf.cast(\n",
    "                tf.greater(detection_masks_reframed, 0.5), tf.uint8)\n",
    "            # Follow the convention by adding back the batch dimension\n",
    "            tensor_dict['detection_masks'] = tf.expand_dims(\n",
    "                detection_masks_reframed, 0)\n",
    "        \n",
    "        image_tensor = tf.get_default_graph().get_tensor_by_name('image_tensor:0')\n",
    "        \n",
    "        cap =  cv2.VideoCapture(video_url)\n",
    "        while True:\n",
    "            if cap.get(1)>num_inferences:\n",
    "                break\n",
    "            Disp.clear_output(wait=True)\n",
    "            ret,image_np = cap.read()\n",
    "            if not ret:\n",
    "                break\n",
    "            start_time = time.time()\n",
    "            # Run inference\n",
    "            output_dict = sess.run(tensor_dict,\n",
    "                                 feed_dict={image_tensor: np.expand_dims(image_np, 0)})\n",
    "            current_fps = 1/(time.time()-start_time)\n",
    "            fps.append(current_fps)\n",
    "            print('FPS:' , current_fps)\n",
    "\n",
    "            # all outputs are float32 numpy arrays, so convert types as appropriate\n",
    "            output_dict['num_detections'] = int(output_dict['num_detections'][0])\n",
    "            output_dict['detection_classes'] = output_dict[\n",
    "              'detection_classes'][0].astype(np.uint8)\n",
    "            output_dict['detection_boxes'] = output_dict['detection_boxes'][0]\n",
    "            output_dict['detection_scores'] = output_dict['detection_scores'][0]\n",
    "            if 'detection_masks' in output_dict:\n",
    "                output_dict['detection_masks'] = output_dict['detection_masks'][0]\n",
    "            \n",
    "            vis_util.visualize_boxes_and_labels_on_image_array(\n",
    "              image_np,\n",
    "              output_dict['detection_boxes'],\n",
    "              output_dict['detection_classes'],\n",
    "              output_dict['detection_scores'],\n",
    "              category_index,\n",
    "              instance_masks=output_dict.get('detection_masks'),\n",
    "              use_normalized_coordinates=True,\n",
    "              line_thickness=8)\n",
    "            \n",
    "            cv2.imshow('preview',image_np)\n",
    "            k = cv2.waitKey(1)\n",
    "            if k==27:\n",
    "                cv2.destroyAllWindows()\n",
    "                cap.release()\n",
    "                break"
   ]
  },
  {
   "cell_type": "code",
   "execution_count": 14,
   "metadata": {
    "ExecuteTime": {
     "end_time": "2019-03-28T12:36:33.631035Z",
     "start_time": "2019-03-28T12:36:33.623199Z"
    }
   },
   "outputs": [],
   "source": [
    "cap.release()"
   ]
  },
  {
   "cell_type": "code",
   "execution_count": 11,
   "metadata": {
    "ExecuteTime": {
     "end_time": "2019-04-01T12:33:59.956957Z",
     "start_time": "2019-04-01T12:33:59.950287Z"
    }
   },
   "outputs": [],
   "source": [
    "fps_1 = fps\n"
   ]
  },
  {
   "cell_type": "code",
   "execution_count": 14,
   "metadata": {
    "ExecuteTime": {
     "end_time": "2019-04-01T12:37:39.089669Z",
     "start_time": "2019-04-01T12:37:39.082445Z"
    }
   },
   "outputs": [],
   "source": [
    "import pandas as pd"
   ]
  },
  {
   "cell_type": "code",
   "execution_count": 15,
   "metadata": {
    "ExecuteTime": {
     "end_time": "2019-04-01T12:37:39.357673Z",
     "start_time": "2019-04-01T12:37:39.332319Z"
    }
   },
   "outputs": [],
   "source": [
    "%matplotlib inline"
   ]
  },
  {
   "cell_type": "code",
   "execution_count": 16,
   "metadata": {
    "ExecuteTime": {
     "end_time": "2019-04-01T12:37:39.864193Z",
     "start_time": "2019-04-01T12:37:39.671358Z"
    }
   },
   "outputs": [
    {
     "data": {
      "text/plain": [
       "<matplotlib.axes._subplots.AxesSubplot at 0x7fdb08d290f0>"
      ]
     },
     "execution_count": 16,
     "metadata": {},
     "output_type": "execute_result"
    },
    {
     "data": {
      "image/png": "[encoded data removed]",
      "text/plain": [
       "<Figure size 432x288 with 1 Axes>"
      ]
     },
     "metadata": {
      "needs_background": "light"
     },
     "output_type": "display_data"
    }
   ],
   "source": [
    "pd.DataFrame({'trt_fps':fps_1[:100],'normal_fps':fps[:100]}).plot()"
   ]
  },
  {
   "cell_type": "code",
   "execution_count": 17,
   "metadata": {
    "ExecuteTime": {
     "end_time": "2019-04-01T12:14:52.746027Z",
     "start_time": "2019-04-01T12:14:52.564952Z"
    }
   },
   "outputs": [
    {
     "data": {
      "text/plain": [
       "<matplotlib.axes._subplots.AxesSubplot at 0x7fd324f11710>"
      ]
     },
     "execution_count": 17,
     "metadata": {},
     "output_type": "execute_result"
    },
    {
     "data": {
      "image/png": "[encoded data removed]",
      "text/plain": [
       "<Figure size 432x288 with 1 Axes>"
      ]
     },
     "metadata": {
      "needs_background": "light"
     },
     "output_type": "display_data"
    }
   ],
   "source": [
    "pd.DataFrame({'trt_fps':fps_1[:100],'normal_fps':fps[:100]}).plot()"
   ]
  },
  {
   "cell_type": "code",
   "execution_count": 7,
   "metadata": {
    "ExecuteTime": {
     "end_time": "2019-03-27T04:21:49.109482Z",
     "start_time": "2019-03-27T04:20:48.014830Z"
    }
   },
   "outputs": [
    {
     "ename": "KeyboardInterrupt",
     "evalue": "",
     "output_type": "error",
     "traceback": [
      "\u001b[0;31m---------------------------------------------------------------------------\u001b[0m",
      "\u001b[0;31mKeyboardInterrupt\u001b[0m                         Traceback (most recent call last)",
      "\u001b[0;32m<ipython-input-7-07aaa86a0165>\u001b[0m in \u001b[0;36m<module>\u001b[0;34m\u001b[0m\n\u001b[1;32m     13\u001b[0m             \u001b[0mstart\u001b[0m \u001b[0;34m=\u001b[0m \u001b[0mtime\u001b[0m\u001b[0;34m.\u001b[0m\u001b[0mtime\u001b[0m\u001b[0;34m(\u001b[0m\u001b[0;34m)\u001b[0m\u001b[0;34m\u001b[0m\u001b[0m\n\u001b[1;32m     14\u001b[0m             op = sess.run(model_output,feed_dict={\n\u001b[0;32m---> 15\u001b[0;31m                                 model_input: [image]})\n\u001b[0m\u001b[1;32m     16\u001b[0m \u001b[0;34m\u001b[0m\u001b[0m\n\u001b[1;32m     17\u001b[0m             \u001b[0;31m#(boxes, scores, labels) = sess.run([boxes, scores,labels],feed_dict={image_tensor: image_np_expanded})\u001b[0m\u001b[0;34m\u001b[0m\u001b[0;34m\u001b[0m\u001b[0m\n",
      "\u001b[0;32m~/.virtualenvs/cv_p35/lib/python3.5/site-packages/tensorflow/python/client/session.py\u001b[0m in \u001b[0;36mrun\u001b[0;34m(self, fetches, feed_dict, options, run_metadata)\u001b[0m\n\u001b[1;32m    927\u001b[0m     \u001b[0;32mtry\u001b[0m\u001b[0;34m:\u001b[0m\u001b[0;34m\u001b[0m\u001b[0m\n\u001b[1;32m    928\u001b[0m       result = self._run(None, fetches, feed_dict, options_ptr,\n\u001b[0;32m--> 929\u001b[0;31m                          run_metadata_ptr)\n\u001b[0m\u001b[1;32m    930\u001b[0m       \u001b[0;32mif\u001b[0m \u001b[0mrun_metadata\u001b[0m\u001b[0;34m:\u001b[0m\u001b[0;34m\u001b[0m\u001b[0m\n\u001b[1;32m    931\u001b[0m         \u001b[0mproto_data\u001b[0m \u001b[0;34m=\u001b[0m \u001b[0mtf_session\u001b[0m\u001b[0;34m.\u001b[0m\u001b[0mTF_GetBuffer\u001b[0m\u001b[0;34m(\u001b[0m\u001b[0mrun_metadata_ptr\u001b[0m\u001b[0;34m)\u001b[0m\u001b[0;34m\u001b[0m\u001b[0m\n",
      "\u001b[0;32m~/.virtualenvs/cv_p35/lib/python3.5/site-packages/tensorflow/python/client/session.py\u001b[0m in \u001b[0;36m_run\u001b[0;34m(self, handle, fetches, feed_dict, options, run_metadata)\u001b[0m\n\u001b[1;32m   1150\u001b[0m     \u001b[0;32mif\u001b[0m \u001b[0mfinal_fetches\u001b[0m \u001b[0;32mor\u001b[0m \u001b[0mfinal_targets\u001b[0m \u001b[0;32mor\u001b[0m \u001b[0;34m(\u001b[0m\u001b[0mhandle\u001b[0m \u001b[0;32mand\u001b[0m \u001b[0mfeed_dict_tensor\u001b[0m\u001b[0;34m)\u001b[0m\u001b[0;34m:\u001b[0m\u001b[0;34m\u001b[0m\u001b[0m\n\u001b[1;32m   1151\u001b[0m       results = self._do_run(handle, final_targets, final_fetches,\n\u001b[0;32m-> 1152\u001b[0;31m                              feed_dict_tensor, options, run_metadata)\n\u001b[0m\u001b[1;32m   1153\u001b[0m     \u001b[0;32melse\u001b[0m\u001b[0;34m:\u001b[0m\u001b[0;34m\u001b[0m\u001b[0m\n\u001b[1;32m   1154\u001b[0m       \u001b[0mresults\u001b[0m \u001b[0;34m=\u001b[0m \u001b[0;34m[\u001b[0m\u001b[0;34m]\u001b[0m\u001b[0;34m\u001b[0m\u001b[0m\n",
      "\u001b[0;32m~/.virtualenvs/cv_p35/lib/python3.5/site-packages/tensorflow/python/client/session.py\u001b[0m in \u001b[0;36m_do_run\u001b[0;34m(self, handle, target_list, fetch_list, feed_dict, options, run_metadata)\u001b[0m\n\u001b[1;32m   1326\u001b[0m     \u001b[0;32mif\u001b[0m \u001b[0mhandle\u001b[0m \u001b[0;32mis\u001b[0m \u001b[0;32mNone\u001b[0m\u001b[0;34m:\u001b[0m\u001b[0;34m\u001b[0m\u001b[0m\n\u001b[1;32m   1327\u001b[0m       return self._do_call(_run_fn, feeds, fetches, targets, options,\n\u001b[0;32m-> 1328\u001b[0;31m                            run_metadata)\n\u001b[0m\u001b[1;32m   1329\u001b[0m     \u001b[0;32melse\u001b[0m\u001b[0;34m:\u001b[0m\u001b[0;34m\u001b[0m\u001b[0m\n\u001b[1;32m   1330\u001b[0m       \u001b[0;32mreturn\u001b[0m \u001b[0mself\u001b[0m\u001b[0;34m.\u001b[0m\u001b[0m_do_call\u001b[0m\u001b[0;34m(\u001b[0m\u001b[0m_prun_fn\u001b[0m\u001b[0;34m,\u001b[0m \u001b[0mhandle\u001b[0m\u001b[0;34m,\u001b[0m \u001b[0mfeeds\u001b[0m\u001b[0;34m,\u001b[0m \u001b[0mfetches\u001b[0m\u001b[0;34m)\u001b[0m\u001b[0;34m\u001b[0m\u001b[0m\n",
      "\u001b[0;32m~/.virtualenvs/cv_p35/lib/python3.5/site-packages/tensorflow/python/client/session.py\u001b[0m in \u001b[0;36m_do_call\u001b[0;34m(self, fn, *args)\u001b[0m\n\u001b[1;32m   1332\u001b[0m   \u001b[0;32mdef\u001b[0m \u001b[0m_do_call\u001b[0m\u001b[0;34m(\u001b[0m\u001b[0mself\u001b[0m\u001b[0;34m,\u001b[0m \u001b[0mfn\u001b[0m\u001b[0;34m,\u001b[0m \u001b[0;34m*\u001b[0m\u001b[0margs\u001b[0m\u001b[0;34m)\u001b[0m\u001b[0;34m:\u001b[0m\u001b[0;34m\u001b[0m\u001b[0m\n\u001b[1;32m   1333\u001b[0m     \u001b[0;32mtry\u001b[0m\u001b[0;34m:\u001b[0m\u001b[0;34m\u001b[0m\u001b[0m\n\u001b[0;32m-> 1334\u001b[0;31m       \u001b[0;32mreturn\u001b[0m \u001b[0mfn\u001b[0m\u001b[0;34m(\u001b[0m\u001b[0;34m*\u001b[0m\u001b[0margs\u001b[0m\u001b[0;34m)\u001b[0m\u001b[0;34m\u001b[0m\u001b[0m\n\u001b[0m\u001b[1;32m   1335\u001b[0m     \u001b[0;32mexcept\u001b[0m \u001b[0merrors\u001b[0m\u001b[0;34m.\u001b[0m\u001b[0mOpError\u001b[0m \u001b[0;32mas\u001b[0m \u001b[0me\u001b[0m\u001b[0;34m:\u001b[0m\u001b[0;34m\u001b[0m\u001b[0m\n\u001b[1;32m   1336\u001b[0m       \u001b[0mmessage\u001b[0m \u001b[0;34m=\u001b[0m \u001b[0mcompat\u001b[0m\u001b[0;34m.\u001b[0m\u001b[0mas_text\u001b[0m\u001b[0;34m(\u001b[0m\u001b[0me\u001b[0m\u001b[0;34m.\u001b[0m\u001b[0mmessage\u001b[0m\u001b[0;34m)\u001b[0m\u001b[0;34m\u001b[0m\u001b[0m\n",
      "\u001b[0;32m~/.virtualenvs/cv_p35/lib/python3.5/site-packages/tensorflow/python/client/session.py\u001b[0m in \u001b[0;36m_run_fn\u001b[0;34m(feed_dict, fetch_list, target_list, options, run_metadata)\u001b[0m\n\u001b[1;32m   1317\u001b[0m       \u001b[0mself\u001b[0m\u001b[0;34m.\u001b[0m\u001b[0m_extend_graph\u001b[0m\u001b[0;34m(\u001b[0m\u001b[0;34m)\u001b[0m\u001b[0;34m\u001b[0m\u001b[0m\n\u001b[1;32m   1318\u001b[0m       return self._call_tf_sessionrun(\n\u001b[0;32m-> 1319\u001b[0;31m           options, feed_dict, fetch_list, target_list, run_metadata)\n\u001b[0m\u001b[1;32m   1320\u001b[0m \u001b[0;34m\u001b[0m\u001b[0m\n\u001b[1;32m   1321\u001b[0m     \u001b[0;32mdef\u001b[0m \u001b[0m_prun_fn\u001b[0m\u001b[0;34m(\u001b[0m\u001b[0mhandle\u001b[0m\u001b[0;34m,\u001b[0m \u001b[0mfeed_dict\u001b[0m\u001b[0;34m,\u001b[0m \u001b[0mfetch_list\u001b[0m\u001b[0;34m)\u001b[0m\u001b[0;34m:\u001b[0m\u001b[0;34m\u001b[0m\u001b[0m\n",
      "\u001b[0;32m~/.virtualenvs/cv_p35/lib/python3.5/site-packages/tensorflow/python/client/session.py\u001b[0m in \u001b[0;36m_call_tf_sessionrun\u001b[0;34m(self, options, feed_dict, fetch_list, target_list, run_metadata)\u001b[0m\n\u001b[1;32m   1405\u001b[0m     return tf_session.TF_SessionRun_wrapper(\n\u001b[1;32m   1406\u001b[0m         \u001b[0mself\u001b[0m\u001b[0;34m.\u001b[0m\u001b[0m_session\u001b[0m\u001b[0;34m,\u001b[0m \u001b[0moptions\u001b[0m\u001b[0;34m,\u001b[0m \u001b[0mfeed_dict\u001b[0m\u001b[0;34m,\u001b[0m \u001b[0mfetch_list\u001b[0m\u001b[0;34m,\u001b[0m \u001b[0mtarget_list\u001b[0m\u001b[0;34m,\u001b[0m\u001b[0;34m\u001b[0m\u001b[0m\n\u001b[0;32m-> 1407\u001b[0;31m         run_metadata)\n\u001b[0m\u001b[1;32m   1408\u001b[0m \u001b[0;34m\u001b[0m\u001b[0m\n\u001b[1;32m   1409\u001b[0m   \u001b[0;32mdef\u001b[0m \u001b[0m_call_tf_sessionprun\u001b[0m\u001b[0;34m(\u001b[0m\u001b[0mself\u001b[0m\u001b[0;34m,\u001b[0m \u001b[0mhandle\u001b[0m\u001b[0;34m,\u001b[0m \u001b[0mfeed_dict\u001b[0m\u001b[0;34m,\u001b[0m \u001b[0mfetch_list\u001b[0m\u001b[0;34m)\u001b[0m\u001b[0;34m:\u001b[0m\u001b[0;34m\u001b[0m\u001b[0m\n",
      "\u001b[0;31mKeyboardInterrupt\u001b[0m: "
     ]
    }
   ],
   "source": [
    "cap = cv2.VideoCapture(0)\n",
    "with trt_detection_graph.as_default():\n",
    "    \n",
    "    with tf.Session(graph=trt_detection_graph) as sess:\n",
    "        while True:\n",
    "            Disp.clear_output(wait=True)\n",
    "            for i in range(1):\n",
    "                ret,image  = cap.read()\n",
    "            draw = image.copy()\n",
    "            draw = cv2.cvtColor(draw, cv2.COLOR_BGR2RGB)\n",
    "\n",
    "            # process image\n",
    "            start = time.time()\n",
    "            op = sess.run(model_output,feed_dict={\n",
    "                                model_input: [image]})\n",
    "\n",
    "            #(boxes, scores, labels) = sess.run([boxes, scores,labels],feed_dict={image_tensor: image_np_expanded})\n",
    "            print(\"FPS = \",1/(time.time()-start))\n",
    "cap.release()"
   ]
  },
  {
   "cell_type": "code",
   "execution_count": 11,
   "metadata": {
    "ExecuteTime": {
     "end_time": "2019-03-27T04:32:41.068430Z",
     "start_time": "2019-03-27T04:32:41.061052Z"
    }
   },
   "outputs": [],
   "source": [
    "cap.release()"
   ]
  },
  {
   "cell_type": "code",
   "execution_count": null,
   "metadata": {},
   "outputs": [],
   "source": []
  }
 ],
 "metadata": {
  "kernelspec": {
   "display_name": "Python [conda env:tensorflow_p36] *",
   "language": "python",
   "name": "conda-env-tensorflow_p36-py"
  }
 },
 "nbformat": 4,
 "nbformat_minor": 2
}
