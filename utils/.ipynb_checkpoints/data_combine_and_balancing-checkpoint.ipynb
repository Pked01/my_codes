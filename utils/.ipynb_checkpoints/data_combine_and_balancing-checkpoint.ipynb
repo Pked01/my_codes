{
 "cells": [
  {
   "cell_type": "code",
   "execution_count": 2,
   "metadata": {
    "ExecuteTime": {
     "end_time": "2019-02-12T10:11:02.522407Z",
     "start_time": "2019-02-12T10:11:02.519205Z"
    }
   },
   "outputs": [],
   "source": [
    "import pandas as pd\n",
    "import numpy as np\n",
    "\n",
    "import os"
   ]
  },
  {
   "cell_type": "code",
   "execution_count": 54,
   "metadata": {},
   "outputs": [],
   "source": [
    "# df_li = []\n",
    "# for location in ['5.In_front_of_engineering',\n",
    "#  '10.Gate-5 warehouse truck loading',\n",
    "#  '6.Engineering_Store',\n",
    "#  '1.Gate-1_Sawing_Machine_Area',\n",
    "#  '9.Stacker_bay_devi_stack_counter',\n",
    "#  '8.In_front_of_engineering_and_canteen']:\n",
    "#     df_li.append(pd.read_csv('../../../dataset/helmet_n_vest/helmet_vest_8_04_2019/'+location+'/_retinanet.csv',header=None))\n",
    "    "
   ]
  },
  {
   "cell_type": "code",
   "execution_count": 32,
   "metadata": {
    "ExecuteTime": {
     "end_time": "2019-02-12T10:11:03.269399Z",
     "start_time": "2019-02-12T10:11:03.195095Z"
    }
   },
   "outputs": [],
   "source": [
    "# # changing filepath\n",
    "# csv_file_path = '../../../dataset/helmet_n_vest/pallavi_data_k80_1/annotations_by_pallavi/cam02/_retinanet.csv'\n",
    "\n",
    "# df4 = pd.read_csv(csv_file_path,header=None)\n",
    "\n",
    "# file_path = []\n",
    "# for i in range(df1.shape[0]):\n",
    "#     file_path.append(os.path.abspath('../../../dataset/helmet_n_vest/pallavi_data_k80_1/cam02/'+os.path.basename(df1.iloc[i][0])))\n",
    "\n",
    "# df4[0] = file_path\n",
    "\n",
    "# df4.to_csv(csv_file_path,index=False,header=False)"
   ]
  },
  {
   "cell_type": "code",
   "execution_count": 59,
   "metadata": {
    "ExecuteTime": {
     "end_time": "2019-02-12T10:11:03.269399Z",
     "start_time": "2019-02-12T10:11:03.195095Z"
    }
   },
   "outputs": [],
   "source": [
    "# df2 = pd.read_csv('Hot_Mill_View_Annotation/_retinanet.csv',header=None)\n",
    "# df3 = pd.read_csv('Annealing View_Annotation/_retinanet.csv',header=None)\n",
    "df1 = pd.read_csv('../../../dataset/helmet_n_vest/pallavi_data_k80_1/annotations_by_pallavi/google/_retinanet.csv',header=None)\n",
    "df4 = pd.read_csv('../../../dataset/helmet_n_vest/pallavi_data_k80_1/annotations_by_pallavi/cam02/_retinanet.csv',header=None)\n",
    "\n",
    "\n",
    "# df2[0]  = df2[0].apply(lambda x : x.replace('jpeg','jpg'))\n",
    "# df3[0]  = df3[0].apply(lambda x : x.replace('jpeg','jpg'))\n",
    "# df4[0]  = df4[0].apply(lambda x : x.replace('jpeg','jpg'))\n",
    "\n",
    "df_total = pd.concat([df1,df4]+df_li)"
   ]
  },
  {
   "cell_type": "code",
   "execution_count": 42,
   "metadata": {},
   "outputs": [],
   "source": [
    "import sys"
   ]
  },
  {
   "cell_type": "code",
   "execution_count": 69,
   "metadata": {},
   "outputs": [
    {
     "name": "stdout",
     "output_type": "stream",
     "text": [
      "Collecting imblearn\n",
      "  Downloading https://files.pythonhosted.org/packages/81/a7/4179e6ebfd654bd0eac0b9c06125b8b4c96a9d0a8ff9e9507eb2a26d2d7e/imblearn-0.0-py2.py3-none-any.whl\n",
      "Collecting imbalanced-learn (from imblearn)\n",
      "\u001b[?25l  Downloading https://files.pythonhosted.org/packages/e5/4c/7557e1c2e791bd43878f8c82065bddc5798252084f26ef44527c02262af1/imbalanced_learn-0.4.3-py3-none-any.whl (166kB)\n",
      "\u001b[K    100% |████████████████████████████████| 174kB 23.5MB/s ta 0:00:01\n",
      "\u001b[?25hRequirement already satisfied: scipy>=0.13.3 in /home/ubuntu/Envs/cv_p35/lib/python3.5/site-packages (from imbalanced-learn->imblearn) (1.2.1)\n",
      "Requirement already satisfied: numpy>=1.8.2 in /home/ubuntu/Envs/cv_p35/lib/python3.5/site-packages (from imbalanced-learn->imblearn) (1.16.2)\n",
      "Requirement already satisfied: scikit-learn>=0.20 in /home/ubuntu/Envs/cv_p35/lib/python3.5/site-packages (from imbalanced-learn->imblearn) (0.20.3)\n",
      "Installing collected packages: imbalanced-learn, imblearn\n",
      "Successfully installed imbalanced-learn-0.4.3 imblearn-0.0\n"
     ]
    }
   ],
   "source": [
    "!{sys.executable} -m pip install imblearn"
   ]
  },
  {
   "cell_type": "code",
   "execution_count": 45,
   "metadata": {
    "ExecuteTime": {
     "end_time": "2019-02-12T10:11:04.251464Z",
     "start_time": "2019-02-12T10:11:04.248378Z"
    }
   },
   "outputs": [],
   "source": [
    "import pandas_ml as pdml"
   ]
  },
  {
   "cell_type": "code",
   "execution_count": 60,
   "metadata": {
    "ExecuteTime": {
     "end_time": "2019-02-12T10:11:04.813590Z",
     "start_time": "2019-02-12T10:11:04.809922Z"
    }
   },
   "outputs": [],
   "source": [
    "df_total.reset_index(drop=True,inplace=True)"
   ]
  },
  {
   "cell_type": "code",
   "execution_count": 61,
   "metadata": {
    "ExecuteTime": {
     "end_time": "2019-02-12T10:11:05.333018Z",
     "start_time": "2019-02-12T10:11:05.312233Z"
    },
    "scrolled": true
   },
   "outputs": [
    {
     "data": {
      "text/plain": [
       "person       9962\n",
       "helmet       4879\n",
       "no_helmet    4437\n",
       "vest         4109\n",
       "no_vest      2647\n",
       "worker       1783\n",
       "Name: 5, dtype: int64"
      ]
     },
     "execution_count": 61,
     "metadata": {},
     "output_type": "execute_result"
    }
   ],
   "source": [
    "df_total[5].value_counts()"
   ]
  },
  {
   "cell_type": "code",
   "execution_count": 24,
   "metadata": {
    "ExecuteTime": {
     "end_time": "2019-02-12T10:11:13.204843Z",
     "start_time": "2019-02-12T10:11:13.194237Z"
    }
   },
   "outputs": [],
   "source": [
    "\n",
    "df_total.loc[df_total[df_total[5]=='worker'].index,5] = 'no_vest'"
   ]
  },
  {
   "cell_type": "code",
   "execution_count": 25,
   "metadata": {
    "ExecuteTime": {
     "end_time": "2019-02-12T10:11:22.778569Z",
     "start_time": "2019-02-12T10:11:22.769330Z"
    }
   },
   "outputs": [
    {
     "data": {
      "text/plain": [
       "person       7611\n",
       "no_vest      5448\n",
       "helmet       4964\n",
       "no_helmet    3944\n",
       "vest         2781\n",
       "Name: 5, dtype: int64"
      ]
     },
     "execution_count": 25,
     "metadata": {},
     "output_type": "execute_result"
    }
   ],
   "source": [
    "df_total[5].value_counts()\n"
   ]
  },
  {
   "cell_type": "code",
   "execution_count": 63,
   "metadata": {
    "ExecuteTime": {
     "end_time": "2019-02-12T10:11:26.825712Z",
     "start_time": "2019-02-12T10:11:26.822358Z"
    }
   },
   "outputs": [],
   "source": [
    "df_total.columns = [0, 1, 2, 3, 4, 'target']"
   ]
  },
  {
   "cell_type": "markdown",
   "metadata": {},
   "source": [
    "#### oversampling"
   ]
  },
  {
   "cell_type": "code",
   "execution_count": 65,
   "metadata": {},
   "outputs": [
    {
     "data": {
      "text/plain": [
       "(27817, 6)"
      ]
     },
     "execution_count": 65,
     "metadata": {},
     "output_type": "execute_result"
    }
   ],
   "source": [
    "df_total.shape"
   ]
  },
  {
   "cell_type": "code",
   "execution_count": 66,
   "metadata": {
    "ExecuteTime": {
     "end_time": "2019-02-12T10:11:28.733108Z",
     "start_time": "2019-02-12T10:11:28.722959Z"
    }
   },
   "outputs": [],
   "source": [
    "df_total = df_total[df_total[1]>0]\n",
    "df_total = df_total[df_total[2]>0]\n",
    "df_total = df_total[df_total[3]>0]\n",
    "df_total = df_total[df_total[4]>0]"
   ]
  },
  {
   "cell_type": "code",
   "execution_count": 67,
   "metadata": {},
   "outputs": [
    {
     "data": {
      "text/plain": [
       "(27021, 6)"
      ]
     },
     "execution_count": 67,
     "metadata": {},
     "output_type": "execute_result"
    }
   ],
   "source": [
    "df_total.shape"
   ]
  },
  {
   "cell_type": "code",
   "execution_count": 70,
   "metadata": {
    "ExecuteTime": {
     "end_time": "2019-02-12T10:11:29.424240Z",
     "start_time": "2019-02-12T10:11:29.349246Z"
    }
   },
   "outputs": [],
   "source": [
    "df_pdml = pdml.ModelFrame(df_total,target='target')\n",
    "\n",
    "sampler = df_pdml.imbalance.over_sampling.RandomOverSampler()\n",
    "\n",
    "#sampler\n",
    "\n",
    "sampled = df_pdml.fit_sample(sampler)"
   ]
  },
  {
   "cell_type": "code",
   "execution_count": 71,
   "metadata": {
    "ExecuteTime": {
     "end_time": "2019-02-12T10:11:32.170175Z",
     "start_time": "2019-02-12T10:11:32.153223Z"
    }
   },
   "outputs": [
    {
     "data": {
      "text/plain": [
       "no_vest      9576\n",
       "vest         9576\n",
       "helmet       9576\n",
       "worker       9576\n",
       "person       9576\n",
       "no_helmet    9576\n",
       "Name: target, dtype: int64"
      ]
     },
     "execution_count": 71,
     "metadata": {},
     "output_type": "execute_result"
    }
   ],
   "source": [
    "sampled.target.value_counts()"
   ]
  },
  {
   "cell_type": "code",
   "execution_count": 74,
   "metadata": {
    "ExecuteTime": {
     "end_time": "2019-02-12T10:11:45.921239Z",
     "start_time": "2019-02-12T10:11:45.658030Z"
    }
   },
   "outputs": [],
   "source": [
    "sampled[[0, 1, 2, 3, 4, 'target']].to_csv('../../../dataset/helmet_n_vest/combined_annos_retinanet_1.csv',header=None,index=False)"
   ]
  },
  {
   "cell_type": "code",
   "execution_count": 32,
   "metadata": {
    "ExecuteTime": {
     "end_time": "2019-02-12T10:20:51.320348Z",
     "start_time": "2019-02-12T10:20:51.242004Z"
    }
   },
   "outputs": [
    {
     "name": "stdout",
     "output_type": "stream",
     "text": [
      "StratifiedShuffleSplit(n_splits=5, random_state=0, test_size=0.2,\n",
      "            train_size=None)\n"
     ]
    }
   ],
   "source": [
    "from sklearn.model_selection import StratifiedShuffleSplit\n",
    "X = sampled.data.values\n",
    "y = sampled.target.values\n",
    "sss = StratifiedShuffleSplit(n_splits=5, test_size=0.2, random_state=0)\n",
    "sss.get_n_splits(X, y)\n",
    "\n",
    "print(sss)       \n",
    "\n",
    "for train_index, test_index in sss.split(X, y):\n",
    "   #print(\"TRAIN:\", train_index, \"TEST:\", test_index)\n",
    "    X_train, X_test = X[train_index], X[test_index]\n",
    "    y_train, y_test = y[train_index], y[test_index]\n",
    "\n"
   ]
  },
  {
   "cell_type": "code",
   "execution_count": 33,
   "metadata": {
    "ExecuteTime": {
     "end_time": "2019-02-12T10:20:52.326542Z",
     "start_time": "2019-02-12T10:20:52.132562Z"
    }
   },
   "outputs": [],
   "source": [
    "sampled.loc[train_index][[0, 1, 2, 3, 4, 'target']].to_csv('combined_annos_retinanet_train.csv',header=None,index=False)\n",
    "sampled.loc[test_index][[0, 1, 2, 3, 4, 'target']].to_csv('combined_annos_retinanet_test.csv',header=None,index=False)"
   ]
  },
  {
   "cell_type": "code",
   "execution_count": 15,
   "metadata": {
    "ExecuteTime": {
     "end_time": "2019-02-05T14:36:00.710062Z",
     "start_time": "2019-02-05T14:36:00.701244Z"
    }
   },
   "outputs": [
    {
     "data": {
      "text/plain": [
       "target                                            no_helmet\n",
       "0         /mnt/external_drive/Notebooks/helmet_detection...\n",
       "1                                                      1360\n",
       "2                                                       283\n",
       "3                                                      1397\n",
       "4                                                       317\n",
       "Name: 19230, dtype: object"
      ]
     },
     "execution_count": 15,
     "metadata": {},
     "output_type": "execute_result"
    }
   ],
   "source": [
    "sampled.loc[train_index].iloc[1592]"
   ]
  }
 ],
 "metadata": {
  "kernelspec": {
   "display_name": "cv_p35",
   "language": "python",
   "name": "cv_p35"
  },
  "language_info": {
   "codemirror_mode": {
    "name": "ipython",
    "version": 3
   },
   "file_extension": ".py",
   "mimetype": "text/x-python",
   "name": "python",
   "nbconvert_exporter": "python",
   "pygments_lexer": "ipython3",
   "version": "3.5.2"
  },
  "latex_envs": {
   "LaTeX_envs_menu_present": true,
   "autoclose": false,
   "autocomplete": true,
   "bibliofile": "biblio.bib",
   "cite_by": "apalike",
   "current_citInitial": 1,
   "eqLabelWithNumbers": true,
   "eqNumInitial": 1,
   "hotkeys": {
    "equation": "Ctrl-E",
    "itemize": "Ctrl-I"
   },
   "labels_anchors": false,
   "latex_user_defs": false,
   "report_style_numbering": false,
   "user_envs_cfg": false
  }
 },
 "nbformat": 4,
 "nbformat_minor": 2
}
