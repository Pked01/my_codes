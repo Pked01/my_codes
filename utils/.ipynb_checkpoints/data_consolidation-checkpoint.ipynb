{
 "cells": [
  {
   "cell_type": "code",
   "execution_count": 1,
   "metadata": {
    "ExecuteTime": {
     "end_time": "2019-01-09T11:19:07.649310Z",
     "start_time": "2019-01-09T11:19:07.339656Z"
    }
   },
   "outputs": [
    {
     "name": "stderr",
     "output_type": "stream",
     "text": [
      "/home/ubuntu/.virtualenvs/cv_p3/lib/python3.5/site-packages/matplotlib/__init__.py:1066: UserWarning: Duplicate key in file \"/home/ubuntu/.config/matplotlib/matplotlibrc\", line #2\n",
      "  (fname, cnt))\n",
      "/home/ubuntu/.virtualenvs/cv_p3/lib/python3.5/site-packages/matplotlib/__init__.py:1066: UserWarning: Duplicate key in file \"/home/ubuntu/.config/matplotlib/matplotlibrc\", line #3\n",
      "  (fname, cnt))\n"
     ]
    }
   ],
   "source": [
    "import pandas as pd"
   ]
  },
  {
   "cell_type": "code",
   "execution_count": 2,
   "metadata": {
    "ExecuteTime": {
     "end_time": "2019-01-09T09:23:02.759574Z",
     "start_time": "2019-01-09T09:23:02.642250Z"
    }
   },
   "outputs": [],
   "source": [
    "mkdir images"
   ]
  },
  {
   "cell_type": "code",
   "execution_count": 9,
   "metadata": {
    "ExecuteTime": {
     "end_time": "2019-01-09T09:24:01.073785Z",
     "start_time": "2019-01-09T09:24:01.033403Z"
    }
   },
   "outputs": [],
   "source": [
    "annos = pd.read_csv('../annotations.csv',header=None)"
   ]
  },
  {
   "cell_type": "code",
   "execution_count": 18,
   "metadata": {
    "ExecuteTime": {
     "end_time": "2019-01-09T09:31:02.261846Z",
     "start_time": "2019-01-09T09:31:02.258901Z"
    }
   },
   "outputs": [],
   "source": []
  },
  {
   "cell_type": "code",
   "execution_count": 20,
   "metadata": {
    "ExecuteTime": {
     "end_time": "2019-01-09T09:34:02.139403Z",
     "start_time": "2019-01-09T09:33:56.141047Z"
    }
   },
   "outputs": [],
   "source": [
    "op_str_li = []\n",
    "for idx,i in enumerate(annos[0].tolist()):\n",
    "    op_str = str(idx).zfill(6)+os.path.splitext(i)[1]\n",
    "    shutil.copy(i,'images/'+op_str)\n",
    "    op_str_li.append(op_str)"
   ]
  },
  {
   "cell_type": "code",
   "execution_count": 26,
   "metadata": {
    "ExecuteTime": {
     "end_time": "2019-01-09T09:38:18.986870Z",
     "start_time": "2019-01-09T09:38:18.982590Z"
    }
   },
   "outputs": [],
   "source": [
    "annos[0] = op_str_li"
   ]
  },
  {
   "cell_type": "code",
   "execution_count": 28,
   "metadata": {
    "ExecuteTime": {
     "end_time": "2019-01-09T09:51:39.071074Z",
     "start_time": "2019-01-09T09:51:38.898806Z"
    }
   },
   "outputs": [],
   "source": [
    "annos.to_csv('label_annos_info.csv',header=False,index=False)"
   ]
  },
  {
   "cell_type": "code",
   "execution_count": 2,
   "metadata": {
    "ExecuteTime": {
     "end_time": "2019-01-09T11:19:27.748466Z",
     "start_time": "2019-01-09T11:19:27.713360Z"
    }
   },
   "outputs": [],
   "source": [
    "df = pd.read_csv('label_annos_info.csv',header=None)"
   ]
  },
  {
   "cell_type": "code",
   "execution_count": 8,
   "metadata": {
    "ExecuteTime": {
     "end_time": "2019-01-09T11:27:10.511492Z",
     "start_time": "2019-01-09T11:27:10.507821Z"
    }
   },
   "outputs": [],
   "source": [
    "label_names_dict = {'person':0,'helmet':1,'no_helmet':2,'vest':3,'no_vest':4}"
   ]
  },
  {
   "cell_type": "code",
   "execution_count": 5,
   "metadata": {
    "ExecuteTime": {
     "end_time": "2019-01-09T11:25:17.814902Z",
     "start_time": "2019-01-09T11:25:17.671979Z"
    }
   },
   "outputs": [],
   "source": [
    "df[0] = df[0].apply(lambda x: os.path.abspath('images/'+x))"
   ]
  },
  {
   "cell_type": "code",
   "execution_count": 10,
   "metadata": {
    "ExecuteTime": {
     "end_time": "2019-01-09T11:32:44.517009Z",
     "start_time": "2019-01-09T11:32:44.372829Z"
    }
   },
   "outputs": [],
   "source": [
    "df.to_csv('label_annos_info_abspath.csv',header=False,index=False)"
   ]
  },
  {
   "cell_type": "code",
   "execution_count": null,
   "metadata": {},
   "outputs": [],
   "source": []
  }
 ],
 "metadata": {
  "kernelspec": {
   "display_name": "cv_p3",
   "language": "python",
   "name": "cv_p3"
  },
  "language_info": {
   "codemirror_mode": {
    "name": "ipython",
    "version": 3
   },
   "file_extension": ".py",
   "mimetype": "text/x-python",
   "name": "python",
   "nbconvert_exporter": "python",
   "pygments_lexer": "ipython3",
   "version": "3.5.2"
  },
  "latex_envs": {
   "LaTeX_envs_menu_present": true,
   "autoclose": false,
   "autocomplete": true,
   "bibliofile": "biblio.bib",
   "cite_by": "apalike",
   "current_citInitial": 1,
   "eqLabelWithNumbers": true,
   "eqNumInitial": 1,
   "hotkeys": {
    "equation": "Ctrl-E",
    "itemize": "Ctrl-I"
   },
   "labels_anchors": false,
   "latex_user_defs": false,
   "report_style_numbering": false,
   "user_envs_cfg": false
  }
 },
 "nbformat": 4,
 "nbformat_minor": 2
}
