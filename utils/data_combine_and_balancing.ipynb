{
 "cells": [
  {
   "cell_type": "code",
   "execution_count": 1,
   "metadata": {
    "ExecuteTime": {
     "end_time": "2019-02-12T10:11:02.522407Z",
     "start_time": "2019-02-12T10:11:02.519205Z"
    }
   },
   "outputs": [],
   "source": [
    "import pandas as pd\n",
    "import numpy as np\n",
    "\n",
    "import os"
   ]
  },
  {
   "cell_type": "code",
   "execution_count": 13,
   "metadata": {},
   "outputs": [],
   "source": [
    "df_li_1 = []\n",
    "for location in ['5.In_front_of_engineering',\n",
    " '10.Gate-5 warehouse truck loading',\n",
    " '6.Engineering_Store',\n",
    " '1.Gate-1_Sawing_Machine_Area',\n",
    " '9.Stacker_bay_devi_stack_counter',\n",
    " '8.In_front_of_engineering_and_canteen']:\n",
    "    df_li_1.append(pd.read_csv('../../../dataset/helmet_n_vest/helmet_vest_8_04_2019/'+location+'/_retinanet.csv',header=None))\n",
    "    "
   ]
  },
  {
   "cell_type": "code",
   "execution_count": 22,
   "metadata": {},
   "outputs": [],
   "source": [
    "df_li_2 = []\n",
    "for f in ['1-100', '501-600', '301-400', '101-200', '401-500', '701-800']:\n",
    "    df_li_2.append(pd.read_csv('../../../dataset/helmet_n_vest/hot_mill_view_low_light_26_04_2019/Train_Frame/'+f+'/_retinanet.csv',header=None))\n",
    "    "
   ]
  },
  {
   "cell_type": "code",
   "execution_count": 32,
   "metadata": {
    "ExecuteTime": {
     "end_time": "2019-02-12T10:11:03.269399Z",
     "start_time": "2019-02-12T10:11:03.195095Z"
    }
   },
   "outputs": [],
   "source": [
    "# # changing filepath\n",
    "# csv_file_path = '../../../dataset/helmet_n_vest/pallavi_data_k80_1/annotations_by_pallavi/cam02/_retinanet.csv'\n",
    "\n",
    "# df4 = pd.read_csv(csv_file_path,header=None)\n",
    "\n",
    "# file_path = []\n",
    "# for i in range(df1.shape[0]):\n",
    "#     file_path.append(os.path.abspath('../../../dataset/helmet_n_vest/pallavi_data_k80_1/cam02/'+os.path.basename(df1.iloc[i][0])))\n",
    "\n",
    "# df4[0] = file_path\n",
    "\n",
    "# df4.to_csv(csv_file_path,index=False,header=False)"
   ]
  },
  {
   "cell_type": "code",
   "execution_count": 78,
   "metadata": {},
   "outputs": [],
   "source": [
    "df1 = pd.read_csv('../../../dataset/helmet_n_vest/pallavi_data_k80_1/annotations_by_pallavi/cam02/_retinanet.csv',header=None)\n",
    "df2 = pd.read_csv('../../../dataset/helmet_n_vest/pallavi_data_k80_1/annotations_by_pallavi/Annealing View_Annotation/_retinanet.csv',header=None)\n",
    "df3 = pd.read_csv('../../../dataset/helmet_n_vest/pallavi_data_k80_1/annotations_by_pallavi/Hot_Mill_View_Annotation/_retinanet.csv',header=None)\n",
    "df4 = pd.read_csv('../../../dataset/helmet_n_vest/annealing_view_low_light_26_04_2019/101-200/_retinanet.csv',header=None)"
   ]
  },
  {
   "cell_type": "code",
   "execution_count": 79,
   "metadata": {
    "ExecuteTime": {
     "end_time": "2019-02-12T10:11:03.269399Z",
     "start_time": "2019-02-12T10:11:03.195095Z"
    }
   },
   "outputs": [],
   "source": [
    "# df2 = pd.read_csv('Hot_Mill_View_Annotation/_retinanet.csv',header=None)\n",
    "# df3 = pd.read_csv('Annealing View_Annotation/_retinanet.csv',header=None)\n",
    "# df1 = pd.read_csv('../../../dataset/helmet_n_vest/pallavi_data_k80_1/annotations_by_pallavi/google/_retinanet.csv',header=None)\n",
    "# df4 = pd.read_csv('../../../dataset/helmet_n_vest/pallavi_data_k80_1/annotations_by_pallavi/cam02/_retinanet.csv',header=None)\n",
    "\n",
    "\n",
    "# df2[0]  = df2[0].apply(lambda x : x.replace('jpeg','jpg'))\n",
    "# df3[0]  = df3[0].apply(lambda x : x.replace('jpeg','jpg'))\n",
    "# df4[0]  = df4[0].apply(lambda x : x.replace('jpeg','jpg'))\n",
    "\n",
    "df_total = pd.concat([df1,df2,df3,df4]+df_li_1+df_li_2)"
   ]
  },
  {
   "cell_type": "code",
   "execution_count": 80,
   "metadata": {
    "ExecuteTime": {
     "end_time": "2019-02-12T10:11:04.251464Z",
     "start_time": "2019-02-12T10:11:04.248378Z"
    }
   },
   "outputs": [],
   "source": [
    "import pandas_ml as pdml"
   ]
  },
  {
   "cell_type": "code",
   "execution_count": 81,
   "metadata": {
    "ExecuteTime": {
     "end_time": "2019-02-12T10:11:04.813590Z",
     "start_time": "2019-02-12T10:11:04.809922Z"
    }
   },
   "outputs": [],
   "source": [
    "df_total.reset_index(drop=True,inplace=True)"
   ]
  },
  {
   "cell_type": "code",
   "execution_count": 82,
   "metadata": {
    "ExecuteTime": {
     "end_time": "2019-02-12T10:11:05.333018Z",
     "start_time": "2019-02-12T10:11:05.312233Z"
    },
    "scrolled": true
   },
   "outputs": [
    {
     "data": {
      "text/plain": [
       "person       11760\n",
       "helmet        8452\n",
       "worker        5197\n",
       "vest          3959\n",
       "no_helmet     3493\n",
       "no_vest       1480\n",
       "Name: 5, dtype: int64"
      ]
     },
     "execution_count": 82,
     "metadata": {},
     "output_type": "execute_result"
    }
   ],
   "source": [
    "df_total[5].value_counts()"
   ]
  },
  {
   "cell_type": "code",
   "execution_count": 83,
   "metadata": {
    "ExecuteTime": {
     "end_time": "2019-02-12T10:11:13.204843Z",
     "start_time": "2019-02-12T10:11:13.194237Z"
    }
   },
   "outputs": [],
   "source": [
    "\n",
    "#df_total.loc[df_total[df_total[5]=='worker'].index,5] = 'no_vest'\n",
    "\n",
    "#df_total[5].value_counts()\n"
   ]
  },
  {
   "cell_type": "code",
   "execution_count": 84,
   "metadata": {
    "ExecuteTime": {
     "end_time": "2019-02-12T10:11:26.825712Z",
     "start_time": "2019-02-12T10:11:26.822358Z"
    }
   },
   "outputs": [],
   "source": [
    "df_total.columns = [0, 1, 2, 3, 4, 'target']"
   ]
  },
  {
   "cell_type": "markdown",
   "metadata": {},
   "source": [
    "#### oversampling"
   ]
  },
  {
   "cell_type": "code",
   "execution_count": 85,
   "metadata": {},
   "outputs": [
    {
     "data": {
      "text/plain": [
       "(34341, 6)"
      ]
     },
     "execution_count": 85,
     "metadata": {},
     "output_type": "execute_result"
    }
   ],
   "source": [
    "df_total.shape"
   ]
  },
  {
   "cell_type": "code",
   "execution_count": 86,
   "metadata": {
    "ExecuteTime": {
     "end_time": "2019-02-12T10:11:28.733108Z",
     "start_time": "2019-02-12T10:11:28.722959Z"
    }
   },
   "outputs": [],
   "source": [
    "df_total = df_total[df_total[1]>0]\n",
    "df_total = df_total[df_total[2]>0]\n",
    "df_total = df_total[df_total[3]>0]\n",
    "df_total = df_total[df_total[4]>0]"
   ]
  },
  {
   "cell_type": "code",
   "execution_count": 87,
   "metadata": {},
   "outputs": [
    {
     "data": {
      "text/plain": [
       "(33938, 6)"
      ]
     },
     "execution_count": 87,
     "metadata": {},
     "output_type": "execute_result"
    }
   ],
   "source": [
    "df_total.shape"
   ]
  },
  {
   "cell_type": "code",
   "execution_count": 88,
   "metadata": {
    "ExecuteTime": {
     "end_time": "2019-02-12T10:11:29.424240Z",
     "start_time": "2019-02-12T10:11:29.349246Z"
    }
   },
   "outputs": [],
   "source": [
    "df_pdml = pdml.ModelFrame(df_total,target='target')\n",
    "\n",
    "sampler = df_pdml.imbalance.over_sampling.RandomOverSampler()\n",
    "\n",
    "#sampler\n",
    "\n",
    "sampled = df_pdml.fit_sample(sampler)"
   ]
  },
  {
   "cell_type": "code",
   "execution_count": 89,
   "metadata": {
    "ExecuteTime": {
     "end_time": "2019-02-12T10:11:32.170175Z",
     "start_time": "2019-02-12T10:11:32.153223Z"
    }
   },
   "outputs": [
    {
     "data": {
      "text/plain": [
       "no_helmet    11536\n",
       "worker       11536\n",
       "no_vest      11536\n",
       "vest         11536\n",
       "helmet       11536\n",
       "person       11536\n",
       "Name: target, dtype: int64"
      ]
     },
     "execution_count": 89,
     "metadata": {},
     "output_type": "execute_result"
    }
   ],
   "source": [
    "sampled.target.value_counts()"
   ]
  },
  {
   "cell_type": "code",
   "execution_count": 90,
   "metadata": {
    "ExecuteTime": {
     "end_time": "2019-02-12T10:11:45.921239Z",
     "start_time": "2019-02-12T10:11:45.658030Z"
    }
   },
   "outputs": [],
   "source": [
    "sampled[[0, 1, 2, 3, 4, 'target']].to_csv('../../../dataset/helmet_n_vest/combined_annos_retinanet_1.csv',header=None,index=False)"
   ]
  },
  {
   "cell_type": "code",
   "execution_count": 32,
   "metadata": {
    "ExecuteTime": {
     "end_time": "2019-02-12T10:20:51.320348Z",
     "start_time": "2019-02-12T10:20:51.242004Z"
    }
   },
   "outputs": [
    {
     "name": "stdout",
     "output_type": "stream",
     "text": [
      "StratifiedShuffleSplit(n_splits=5, random_state=0, test_size=0.2,\n",
      "            train_size=None)\n"
     ]
    }
   ],
   "source": [
    "from sklearn.model_selection import StratifiedShuffleSplit\n",
    "X = sampled.data.values\n",
    "y = sampled.target.values\n",
    "sss = StratifiedShuffleSplit(n_splits=5, test_size=0.2, random_state=0)\n",
    "sss.get_n_splits(X, y)\n",
    "\n",
    "print(sss)       \n",
    "\n",
    "for train_index, test_index in sss.split(X, y):\n",
    "   #print(\"TRAIN:\", train_index, \"TEST:\", test_index)\n",
    "    X_train, X_test = X[train_index], X[test_index]\n",
    "    y_train, y_test = y[train_index], y[test_index]\n",
    "\n"
   ]
  },
  {
   "cell_type": "code",
   "execution_count": 33,
   "metadata": {
    "ExecuteTime": {
     "end_time": "2019-02-12T10:20:52.326542Z",
     "start_time": "2019-02-12T10:20:52.132562Z"
    }
   },
   "outputs": [],
   "source": [
    "sampled.loc[train_index][[0, 1, 2, 3, 4, 'target']].to_csv('combined_annos_retinanet_train.csv',header=None,index=False)\n",
    "sampled.loc[test_index][[0, 1, 2, 3, 4, 'target']].to_csv('combined_annos_retinanet_test.csv',header=None,index=False)"
   ]
  },
  {
   "cell_type": "code",
   "execution_count": 15,
   "metadata": {
    "ExecuteTime": {
     "end_time": "2019-02-05T14:36:00.710062Z",
     "start_time": "2019-02-05T14:36:00.701244Z"
    }
   },
   "outputs": [
    {
     "data": {
      "text/plain": [
       "target                                            no_helmet\n",
       "0         /mnt/external_drive/Notebooks/helmet_detection...\n",
       "1                                                      1360\n",
       "2                                                       283\n",
       "3                                                      1397\n",
       "4                                                       317\n",
       "Name: 19230, dtype: object"
      ]
     },
     "execution_count": 15,
     "metadata": {},
     "output_type": "execute_result"
    }
   ],
   "source": [
    "sampled.loc[train_index].iloc[1592]"
   ]
  }
 ],
 "metadata": {
  "kernelspec": {
   "display_name": "cv_p35",
   "language": "python",
   "name": "cv_p35"
  },
  "language_info": {
   "codemirror_mode": {
    "name": "ipython",
    "version": 3
   },
   "file_extension": ".py",
   "mimetype": "text/x-python",
   "name": "python",
   "nbconvert_exporter": "python",
   "pygments_lexer": "ipython3",
   "version": "3.5.2"
  },
  "latex_envs": {
   "LaTeX_envs_menu_present": true,
   "autoclose": false,
   "autocomplete": true,
   "bibliofile": "biblio.bib",
   "cite_by": "apalike",
   "current_citInitial": 1,
   "eqLabelWithNumbers": true,
   "eqNumInitial": 1,
   "hotkeys": {
    "equation": "Ctrl-E",
    "itemize": "Ctrl-I"
   },
   "labels_anchors": false,
   "latex_user_defs": false,
   "report_style_numbering": false,
   "user_envs_cfg": false
  }
 },
 "nbformat": 4,
 "nbformat_minor": 2
}
